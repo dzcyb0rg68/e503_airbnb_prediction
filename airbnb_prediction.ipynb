{
 "cells": [
  {
   "cell_type": "code",
   "execution_count": 1,
   "metadata": {
    "colab": {
     "base_uri": "https://localhost:8080/",
     "height": 35
    },
    "id": "Zo65rbuNPCYO",
    "outputId": "a9dca0d6-25fa-435d-ace9-1e7b98ab086c"
   },
   "outputs": [
    {
     "data": {
      "text/plain": [
       "'2.3.1'"
      ]
     },
     "execution_count": 1,
     "metadata": {},
     "output_type": "execute_result"
    }
   ],
   "source": [
    "import tensorflow as tf\n",
    "import pandas as pd\n",
    "from sklearn.model_selection import train_test_split\n",
    "from sklearn import preprocessing\n",
    "\n",
    "tf.__version__"
   ]
  },
  {
   "cell_type": "markdown",
   "metadata": {
    "id": "C_-cTqULV0Aa"
   },
   "source": [
    "# Environment Initialization and Data Download"
   ]
  },
  {
   "cell_type": "code",
   "execution_count": 4,
   "metadata": {
    "colab": {
     "base_uri": "https://localhost:8080/",
     "height": 73,
     "resources": {
      "http://localhost:8080/nbextensions/google.colab/files.js": {
       "data": "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",
       "headers": [
        [
         "content-type",
         "application/javascript"
        ]
       ],
       "ok": true,
       "status": 200,
       "status_text": ""
      }
     }
    },
    "id": "KoXz-bdxPdIs",
    "outputId": "8862e0a5-5151-41a5-c6d1-97d36668acbd"
   },
   "outputs": [
    {
     "data": {
      "text/html": [
       "\n",
       "     <input type=\"file\" id=\"files-ffb4ef06-8a0d-4b3d-99e4-e8ed667fcb71\" name=\"files[]\" multiple disabled\n",
       "        style=\"border:none\" />\n",
       "     <output id=\"result-ffb4ef06-8a0d-4b3d-99e4-e8ed667fcb71\">\n",
       "      Upload widget is only available when the cell has been executed in the\n",
       "      current browser session. Please rerun this cell to enable.\n",
       "      </output>\n",
       "      <script src=\"/nbextensions/google.colab/files.js\"></script> "
      ],
      "text/plain": [
       "<IPython.core.display.HTML object>"
      ]
     },
     "metadata": {
      "tags": []
     },
     "output_type": "display_data"
    },
    {
     "name": "stdout",
     "output_type": "stream",
     "text": [
      "Saving kaggle.json to kaggle.json\n"
     ]
    }
   ],
   "source": [
    "from google.colab import files\n",
    "\n",
    "uploaded = files.upload()"
   ]
  },
  {
   "cell_type": "code",
   "execution_count": 5,
   "metadata": {
    "id": "3g-yWpJQRZ5t"
   },
   "outputs": [],
   "source": [
    "!mkdir -p ~/.kaggle/ && mv kaggle.json ~/.kaggle/ && chmod 600 ~/.kaggle/kaggle.json"
   ]
  },
  {
   "cell_type": "code",
   "execution_count": 6,
   "metadata": {
    "colab": {
     "base_uri": "https://localhost:8080/"
    },
    "id": "hcxAa7USRcJF",
    "outputId": "9933f8e5-570b-44d9-cc16-ca55a6775208"
   },
   "outputs": [
    {
     "name": "stdout",
     "output_type": "stream",
     "text": [
      "Downloading new-york-city-airbnb-open-data.zip to /content\n",
      "\r",
      "  0% 0.00/2.44M [00:00<?, ?B/s]\n",
      "\r",
      "100% 2.44M/2.44M [00:00<00:00, 80.7MB/s]\n"
     ]
    }
   ],
   "source": [
    "!kaggle datasets download \"dgomonov/new-york-city-airbnb-open-data\""
   ]
  },
  {
   "cell_type": "code",
   "execution_count": 7,
   "metadata": {
    "colab": {
     "base_uri": "https://localhost:8080/"
    },
    "id": "GD0NSo0rTLet",
    "outputId": "7f58fcb0-4497-43f9-df42-f4fb9505321d"
   },
   "outputs": [
    {
     "name": "stdout",
     "output_type": "stream",
     "text": [
      "total 2508\n",
      "drwxr-xr-x 1 root root    4096 Nov 13 17:33 sample_data\n",
      "-rw-r--r-- 1 root root 2562692 Nov 22 23:18 new-york-city-airbnb-open-data.zip\n"
     ]
    }
   ],
   "source": [
    "!ls -lrt /content"
   ]
  },
  {
   "cell_type": "code",
   "execution_count": 8,
   "metadata": {
    "colab": {
     "base_uri": "https://localhost:8080/"
    },
    "id": "lySQc7LoUijd",
    "outputId": "0bbbce50-54ac-4b80-953c-fa50334162bf"
   },
   "outputs": [
    {
     "name": "stdout",
     "output_type": "stream",
     "text": [
      "Archive:  /content/airbnb_new_york_2019_data/new-york-city-airbnb-open-data.zip\n",
      "  inflating: AB_NYC_2019.csv         \n",
      "  inflating: New_York_City_.png      \n"
     ]
    }
   ],
   "source": [
    "!mkdir airbnb_new_york_2019_data\n",
    "!mv new-york-city-airbnb-open-data.zip /content/airbnb_new_york_2019_data/\n",
    "!unzip /content/airbnb_new_york_2019_data/new-york-city-airbnb-open-data.zip"
   ]
  },
  {
   "cell_type": "code",
   "execution_count": 9,
   "metadata": {
    "id": "OA4xzoN3QMeM"
   },
   "outputs": [],
   "source": [
    "!mv AB_NYC_2019.csv /content/airbnb_new_york_2019_data/\n",
    "!mv New_York_City_.png /content/airbnb_new_york_2019_data/"
   ]
  },
  {
   "cell_type": "markdown",
   "metadata": {
    "id": "agwAykkpPd9g"
   },
   "source": [
    "# Data preparation and processing"
   ]
  },
  {
   "cell_type": "code",
   "execution_count": 2,
   "metadata": {},
   "outputs": [
    {
     "data": {
      "text/html": [
       "<div>\n",
       "<style scoped>\n",
       "    .dataframe tbody tr th:only-of-type {\n",
       "        vertical-align: middle;\n",
       "    }\n",
       "\n",
       "    .dataframe tbody tr th {\n",
       "        vertical-align: top;\n",
       "    }\n",
       "\n",
       "    .dataframe thead th {\n",
       "        text-align: right;\n",
       "    }\n",
       "</style>\n",
       "<table border=\"1\" class=\"dataframe\">\n",
       "  <thead>\n",
       "    <tr style=\"text-align: right;\">\n",
       "      <th></th>\n",
       "      <th>id</th>\n",
       "      <th>name</th>\n",
       "      <th>host_id</th>\n",
       "      <th>host_name</th>\n",
       "      <th>neighbourhood_group</th>\n",
       "      <th>neighbourhood</th>\n",
       "      <th>latitude</th>\n",
       "      <th>longitude</th>\n",
       "      <th>room_type</th>\n",
       "      <th>price</th>\n",
       "      <th>minimum_nights</th>\n",
       "      <th>number_of_reviews</th>\n",
       "      <th>last_review</th>\n",
       "      <th>reviews_per_month</th>\n",
       "      <th>calculated_host_listings_count</th>\n",
       "      <th>availability_365</th>\n",
       "    </tr>\n",
       "  </thead>\n",
       "  <tbody>\n",
       "    <tr>\n",
       "      <th>0</th>\n",
       "      <td>2539</td>\n",
       "      <td>Clean &amp; quiet apt home by the park</td>\n",
       "      <td>2787</td>\n",
       "      <td>John</td>\n",
       "      <td>Brooklyn</td>\n",
       "      <td>Kensington</td>\n",
       "      <td>40.64749</td>\n",
       "      <td>-73.97237</td>\n",
       "      <td>Private room</td>\n",
       "      <td>149</td>\n",
       "      <td>1</td>\n",
       "      <td>9</td>\n",
       "      <td>2018-10-19</td>\n",
       "      <td>0.21</td>\n",
       "      <td>6</td>\n",
       "      <td>365</td>\n",
       "    </tr>\n",
       "    <tr>\n",
       "      <th>1</th>\n",
       "      <td>2595</td>\n",
       "      <td>Skylit Midtown Castle</td>\n",
       "      <td>2845</td>\n",
       "      <td>Jennifer</td>\n",
       "      <td>Manhattan</td>\n",
       "      <td>Midtown</td>\n",
       "      <td>40.75362</td>\n",
       "      <td>-73.98377</td>\n",
       "      <td>Entire home/apt</td>\n",
       "      <td>225</td>\n",
       "      <td>1</td>\n",
       "      <td>45</td>\n",
       "      <td>2019-05-21</td>\n",
       "      <td>0.38</td>\n",
       "      <td>2</td>\n",
       "      <td>355</td>\n",
       "    </tr>\n",
       "    <tr>\n",
       "      <th>2</th>\n",
       "      <td>3647</td>\n",
       "      <td>THE VILLAGE OF HARLEM....NEW YORK !</td>\n",
       "      <td>4632</td>\n",
       "      <td>Elisabeth</td>\n",
       "      <td>Manhattan</td>\n",
       "      <td>Harlem</td>\n",
       "      <td>40.80902</td>\n",
       "      <td>-73.94190</td>\n",
       "      <td>Private room</td>\n",
       "      <td>150</td>\n",
       "      <td>3</td>\n",
       "      <td>0</td>\n",
       "      <td>NaN</td>\n",
       "      <td>NaN</td>\n",
       "      <td>1</td>\n",
       "      <td>365</td>\n",
       "    </tr>\n",
       "    <tr>\n",
       "      <th>3</th>\n",
       "      <td>3831</td>\n",
       "      <td>Cozy Entire Floor of Brownstone</td>\n",
       "      <td>4869</td>\n",
       "      <td>LisaRoxanne</td>\n",
       "      <td>Brooklyn</td>\n",
       "      <td>Clinton Hill</td>\n",
       "      <td>40.68514</td>\n",
       "      <td>-73.95976</td>\n",
       "      <td>Entire home/apt</td>\n",
       "      <td>89</td>\n",
       "      <td>1</td>\n",
       "      <td>270</td>\n",
       "      <td>2019-07-05</td>\n",
       "      <td>4.64</td>\n",
       "      <td>1</td>\n",
       "      <td>194</td>\n",
       "    </tr>\n",
       "    <tr>\n",
       "      <th>4</th>\n",
       "      <td>5022</td>\n",
       "      <td>Entire Apt: Spacious Studio/Loft by central park</td>\n",
       "      <td>7192</td>\n",
       "      <td>Laura</td>\n",
       "      <td>Manhattan</td>\n",
       "      <td>East Harlem</td>\n",
       "      <td>40.79851</td>\n",
       "      <td>-73.94399</td>\n",
       "      <td>Entire home/apt</td>\n",
       "      <td>80</td>\n",
       "      <td>10</td>\n",
       "      <td>9</td>\n",
       "      <td>2018-11-19</td>\n",
       "      <td>0.10</td>\n",
       "      <td>1</td>\n",
       "      <td>0</td>\n",
       "    </tr>\n",
       "  </tbody>\n",
       "</table>\n",
       "</div>"
      ],
      "text/plain": [
       "     id                                              name  host_id  \\\n",
       "0  2539                Clean & quiet apt home by the park     2787   \n",
       "1  2595                             Skylit Midtown Castle     2845   \n",
       "2  3647               THE VILLAGE OF HARLEM....NEW YORK !     4632   \n",
       "3  3831                   Cozy Entire Floor of Brownstone     4869   \n",
       "4  5022  Entire Apt: Spacious Studio/Loft by central park     7192   \n",
       "\n",
       "     host_name neighbourhood_group neighbourhood  latitude  longitude  \\\n",
       "0         John            Brooklyn    Kensington  40.64749  -73.97237   \n",
       "1     Jennifer           Manhattan       Midtown  40.75362  -73.98377   \n",
       "2    Elisabeth           Manhattan        Harlem  40.80902  -73.94190   \n",
       "3  LisaRoxanne            Brooklyn  Clinton Hill  40.68514  -73.95976   \n",
       "4        Laura           Manhattan   East Harlem  40.79851  -73.94399   \n",
       "\n",
       "         room_type  price  minimum_nights  number_of_reviews last_review  \\\n",
       "0     Private room    149               1                  9  2018-10-19   \n",
       "1  Entire home/apt    225               1                 45  2019-05-21   \n",
       "2     Private room    150               3                  0         NaN   \n",
       "3  Entire home/apt     89               1                270  2019-07-05   \n",
       "4  Entire home/apt     80              10                  9  2018-11-19   \n",
       "\n",
       "   reviews_per_month  calculated_host_listings_count  availability_365  \n",
       "0               0.21                               6               365  \n",
       "1               0.38                               2               355  \n",
       "2                NaN                               1               365  \n",
       "3               4.64                               1               194  \n",
       "4               0.10                               1                 0  "
      ]
     },
     "execution_count": 2,
     "metadata": {},
     "output_type": "execute_result"
    }
   ],
   "source": [
    "ny_airbnb = pd.read_csv('AB_NYC_2019.csv')\n",
    "ny_airbnb.head(5)"
   ]
  },
  {
   "cell_type": "code",
   "execution_count": 2,
   "metadata": {
    "colab": {
     "base_uri": "https://localhost:8080/",
     "height": 400
    },
    "id": "J6IU66SCWALX",
    "outputId": "528f0575-a1d7-4e72-97cb-06f355cb1e3f"
   },
   "outputs": [
    {
     "data": {
      "text/html": [
       "<div>\n",
       "<style scoped>\n",
       "    .dataframe tbody tr th:only-of-type {\n",
       "        vertical-align: middle;\n",
       "    }\n",
       "\n",
       "    .dataframe tbody tr th {\n",
       "        vertical-align: top;\n",
       "    }\n",
       "\n",
       "    .dataframe thead th {\n",
       "        text-align: right;\n",
       "    }\n",
       "</style>\n",
       "<table border=\"1\" class=\"dataframe\">\n",
       "  <thead>\n",
       "    <tr style=\"text-align: right;\">\n",
       "      <th></th>\n",
       "      <th>id</th>\n",
       "      <th>name</th>\n",
       "      <th>host_id</th>\n",
       "      <th>host_name</th>\n",
       "      <th>neighbourhood_group</th>\n",
       "      <th>neighbourhood</th>\n",
       "      <th>latitude</th>\n",
       "      <th>longitude</th>\n",
       "      <th>room_type</th>\n",
       "      <th>price</th>\n",
       "      <th>minimum_nights</th>\n",
       "      <th>number_of_reviews</th>\n",
       "      <th>last_review</th>\n",
       "      <th>reviews_per_month</th>\n",
       "      <th>calculated_host_listings_count</th>\n",
       "      <th>availability_365</th>\n",
       "    </tr>\n",
       "  </thead>\n",
       "  <tbody>\n",
       "    <tr>\n",
       "      <th>0</th>\n",
       "      <td>2539</td>\n",
       "      <td>Clean &amp; quiet apt home by the park</td>\n",
       "      <td>2787</td>\n",
       "      <td>John</td>\n",
       "      <td>Brooklyn</td>\n",
       "      <td>Kensington</td>\n",
       "      <td>40.64749</td>\n",
       "      <td>-73.97237</td>\n",
       "      <td>Private room</td>\n",
       "      <td>149</td>\n",
       "      <td>1</td>\n",
       "      <td>9</td>\n",
       "      <td>2018-10-19</td>\n",
       "      <td>0.21</td>\n",
       "      <td>6</td>\n",
       "      <td>365</td>\n",
       "    </tr>\n",
       "    <tr>\n",
       "      <th>1</th>\n",
       "      <td>2595</td>\n",
       "      <td>Skylit Midtown Castle</td>\n",
       "      <td>2845</td>\n",
       "      <td>Jennifer</td>\n",
       "      <td>Manhattan</td>\n",
       "      <td>Midtown</td>\n",
       "      <td>40.75362</td>\n",
       "      <td>-73.98377</td>\n",
       "      <td>Entire home/apt</td>\n",
       "      <td>225</td>\n",
       "      <td>1</td>\n",
       "      <td>45</td>\n",
       "      <td>2019-05-21</td>\n",
       "      <td>0.38</td>\n",
       "      <td>2</td>\n",
       "      <td>355</td>\n",
       "    </tr>\n",
       "    <tr>\n",
       "      <th>2</th>\n",
       "      <td>3647</td>\n",
       "      <td>THE VILLAGE OF HARLEM....NEW YORK !</td>\n",
       "      <td>4632</td>\n",
       "      <td>Elisabeth</td>\n",
       "      <td>Manhattan</td>\n",
       "      <td>Harlem</td>\n",
       "      <td>40.80902</td>\n",
       "      <td>-73.94190</td>\n",
       "      <td>Private room</td>\n",
       "      <td>150</td>\n",
       "      <td>3</td>\n",
       "      <td>0</td>\n",
       "      <td>NaN</td>\n",
       "      <td>NaN</td>\n",
       "      <td>1</td>\n",
       "      <td>365</td>\n",
       "    </tr>\n",
       "    <tr>\n",
       "      <th>3</th>\n",
       "      <td>3831</td>\n",
       "      <td>Cozy Entire Floor of Brownstone</td>\n",
       "      <td>4869</td>\n",
       "      <td>LisaRoxanne</td>\n",
       "      <td>Brooklyn</td>\n",
       "      <td>Clinton Hill</td>\n",
       "      <td>40.68514</td>\n",
       "      <td>-73.95976</td>\n",
       "      <td>Entire home/apt</td>\n",
       "      <td>89</td>\n",
       "      <td>1</td>\n",
       "      <td>270</td>\n",
       "      <td>2019-07-05</td>\n",
       "      <td>4.64</td>\n",
       "      <td>1</td>\n",
       "      <td>194</td>\n",
       "    </tr>\n",
       "    <tr>\n",
       "      <th>4</th>\n",
       "      <td>5022</td>\n",
       "      <td>Entire Apt: Spacious Studio/Loft by central park</td>\n",
       "      <td>7192</td>\n",
       "      <td>Laura</td>\n",
       "      <td>Manhattan</td>\n",
       "      <td>East Harlem</td>\n",
       "      <td>40.79851</td>\n",
       "      <td>-73.94399</td>\n",
       "      <td>Entire home/apt</td>\n",
       "      <td>80</td>\n",
       "      <td>10</td>\n",
       "      <td>9</td>\n",
       "      <td>2018-11-19</td>\n",
       "      <td>0.10</td>\n",
       "      <td>1</td>\n",
       "      <td>0</td>\n",
       "    </tr>\n",
       "  </tbody>\n",
       "</table>\n",
       "</div>"
      ],
      "text/plain": [
       "     id  ... availability_365\n",
       "0  2539  ...              365\n",
       "1  2595  ...              355\n",
       "2  3647  ...              365\n",
       "3  3831  ...              194\n",
       "4  5022  ...                0\n",
       "\n",
       "[5 rows x 16 columns]"
      ]
     },
     "execution_count": 2,
     "metadata": {
      "tags": []
     },
     "output_type": "execute_result"
    }
   ],
   "source": [
    "data_path = '/content/airbnb_new_york_2019_data/'\n",
    "ny_airbnb = pd.read_csv(data_path + 'AB_NYC_2019.csv')\n",
    "ny_airbnb.head(5)"
   ]
  },
  {
   "cell_type": "markdown",
   "metadata": {
    "id": "YiDV2VPUXeo6"
   },
   "source": [
    "**Drop the uneeded columns and fill none-value with 0**"
   ]
  },
  {
   "cell_type": "code",
   "execution_count": 3,
   "metadata": {
    "colab": {
     "base_uri": "https://localhost:8080/",
     "height": 400
    },
    "id": "w9il4TSzWSo9",
    "outputId": "5a0c6eeb-02d7-49e0-9db2-7afc7b480b44"
   },
   "outputs": [
    {
     "data": {
      "text/html": [
       "<div>\n",
       "<style scoped>\n",
       "    .dataframe tbody tr th:only-of-type {\n",
       "        vertical-align: middle;\n",
       "    }\n",
       "\n",
       "    .dataframe tbody tr th {\n",
       "        vertical-align: top;\n",
       "    }\n",
       "\n",
       "    .dataframe thead th {\n",
       "        text-align: right;\n",
       "    }\n",
       "</style>\n",
       "<table border=\"1\" class=\"dataframe\">\n",
       "  <thead>\n",
       "    <tr style=\"text-align: right;\">\n",
       "      <th></th>\n",
       "      <th>name</th>\n",
       "      <th>neighbourhood_group</th>\n",
       "      <th>neighbourhood</th>\n",
       "      <th>latitude</th>\n",
       "      <th>longitude</th>\n",
       "      <th>room_type</th>\n",
       "      <th>price</th>\n",
       "      <th>minimum_nights</th>\n",
       "      <th>number_of_reviews</th>\n",
       "      <th>reviews_per_month</th>\n",
       "      <th>calculated_host_listings_count</th>\n",
       "      <th>availability_365</th>\n",
       "    </tr>\n",
       "  </thead>\n",
       "  <tbody>\n",
       "    <tr>\n",
       "      <th>0</th>\n",
       "      <td>Clean &amp; quiet apt home by the park</td>\n",
       "      <td>Brooklyn</td>\n",
       "      <td>Kensington</td>\n",
       "      <td>40.64749</td>\n",
       "      <td>-73.97237</td>\n",
       "      <td>Private room</td>\n",
       "      <td>149</td>\n",
       "      <td>1</td>\n",
       "      <td>9</td>\n",
       "      <td>0.21</td>\n",
       "      <td>6</td>\n",
       "      <td>365</td>\n",
       "    </tr>\n",
       "    <tr>\n",
       "      <th>1</th>\n",
       "      <td>Skylit Midtown Castle</td>\n",
       "      <td>Manhattan</td>\n",
       "      <td>Midtown</td>\n",
       "      <td>40.75362</td>\n",
       "      <td>-73.98377</td>\n",
       "      <td>Entire home/apt</td>\n",
       "      <td>225</td>\n",
       "      <td>1</td>\n",
       "      <td>45</td>\n",
       "      <td>0.38</td>\n",
       "      <td>2</td>\n",
       "      <td>355</td>\n",
       "    </tr>\n",
       "    <tr>\n",
       "      <th>2</th>\n",
       "      <td>THE VILLAGE OF HARLEM....NEW YORK !</td>\n",
       "      <td>Manhattan</td>\n",
       "      <td>Harlem</td>\n",
       "      <td>40.80902</td>\n",
       "      <td>-73.94190</td>\n",
       "      <td>Private room</td>\n",
       "      <td>150</td>\n",
       "      <td>3</td>\n",
       "      <td>0</td>\n",
       "      <td>0.00</td>\n",
       "      <td>1</td>\n",
       "      <td>365</td>\n",
       "    </tr>\n",
       "    <tr>\n",
       "      <th>3</th>\n",
       "      <td>Cozy Entire Floor of Brownstone</td>\n",
       "      <td>Brooklyn</td>\n",
       "      <td>Clinton Hill</td>\n",
       "      <td>40.68514</td>\n",
       "      <td>-73.95976</td>\n",
       "      <td>Entire home/apt</td>\n",
       "      <td>89</td>\n",
       "      <td>1</td>\n",
       "      <td>270</td>\n",
       "      <td>4.64</td>\n",
       "      <td>1</td>\n",
       "      <td>194</td>\n",
       "    </tr>\n",
       "    <tr>\n",
       "      <th>4</th>\n",
       "      <td>Entire Apt: Spacious Studio/Loft by central park</td>\n",
       "      <td>Manhattan</td>\n",
       "      <td>East Harlem</td>\n",
       "      <td>40.79851</td>\n",
       "      <td>-73.94399</td>\n",
       "      <td>Entire home/apt</td>\n",
       "      <td>80</td>\n",
       "      <td>10</td>\n",
       "      <td>9</td>\n",
       "      <td>0.10</td>\n",
       "      <td>1</td>\n",
       "      <td>0</td>\n",
       "    </tr>\n",
       "  </tbody>\n",
       "</table>\n",
       "</div>"
      ],
      "text/plain": [
       "                                               name neighbourhood_group  \\\n",
       "0                Clean & quiet apt home by the park            Brooklyn   \n",
       "1                             Skylit Midtown Castle           Manhattan   \n",
       "2               THE VILLAGE OF HARLEM....NEW YORK !           Manhattan   \n",
       "3                   Cozy Entire Floor of Brownstone            Brooklyn   \n",
       "4  Entire Apt: Spacious Studio/Loft by central park           Manhattan   \n",
       "\n",
       "  neighbourhood  latitude  longitude        room_type  price  minimum_nights  \\\n",
       "0    Kensington  40.64749  -73.97237     Private room    149               1   \n",
       "1       Midtown  40.75362  -73.98377  Entire home/apt    225               1   \n",
       "2        Harlem  40.80902  -73.94190     Private room    150               3   \n",
       "3  Clinton Hill  40.68514  -73.95976  Entire home/apt     89               1   \n",
       "4   East Harlem  40.79851  -73.94399  Entire home/apt     80              10   \n",
       "\n",
       "   number_of_reviews  reviews_per_month  calculated_host_listings_count  \\\n",
       "0                  9               0.21                               6   \n",
       "1                 45               0.38                               2   \n",
       "2                  0               0.00                               1   \n",
       "3                270               4.64                               1   \n",
       "4                  9               0.10                               1   \n",
       "\n",
       "   availability_365  \n",
       "0               365  \n",
       "1               355  \n",
       "2               365  \n",
       "3               194  \n",
       "4                 0  "
      ]
     },
     "execution_count": 3,
     "metadata": {},
     "output_type": "execute_result"
    }
   ],
   "source": [
    "ny_airbnb.drop(['host_name', 'id', 'host_id', 'last_review'], axis = 'columns', inplace=True)\n",
    "ny_airbnb['reviews_per_month'] = ny_airbnb['reviews_per_month'].fillna(0)\n",
    "\n",
    "ny_airbnb.head(5)"
   ]
  },
  {
   "cell_type": "markdown",
   "metadata": {
    "id": "kdj2G5zvWbce"
   },
   "source": [
    "**Tranform catagorical data into a binary vector representation using One-Hot Encoding**\n",
    "\n",
    "**Reference: [Introduction to One-Hot Encoding and Pandas get_dummies](https://towardsdatascience.com/what-is-one-hot-encoding-and-how-to-use-pandas-get-dummies-function-922eb9bd4970)**"
   ]
  },
  {
   "cell_type": "code",
   "execution_count": 4,
   "metadata": {
    "colab": {
     "base_uri": "https://localhost:8080/",
     "height": 345
    },
    "id": "qHCQCg9MWyno",
    "outputId": "b2370f63-a17c-4672-efa0-738b2b576374"
   },
   "outputs": [
    {
     "data": {
      "text/html": [
       "<div>\n",
       "<style scoped>\n",
       "    .dataframe tbody tr th:only-of-type {\n",
       "        vertical-align: middle;\n",
       "    }\n",
       "\n",
       "    .dataframe tbody tr th {\n",
       "        vertical-align: top;\n",
       "    }\n",
       "\n",
       "    .dataframe thead th {\n",
       "        text-align: right;\n",
       "    }\n",
       "</style>\n",
       "<table border=\"1\" class=\"dataframe\">\n",
       "  <thead>\n",
       "    <tr style=\"text-align: right;\">\n",
       "      <th></th>\n",
       "      <th>name_ 1 Bed Apt in Utopic Williamsburg</th>\n",
       "      <th>name_ 2-3 bedroom UWS garden triplex</th>\n",
       "      <th>name_ 3 bedroom loft in Williamsburg</th>\n",
       "      <th>name_ A charming Space in Brooklyn</th>\n",
       "      <th>name_ AMAZING TIME SQUARE!!BRICK WALLS!!</th>\n",
       "      <th>name_ Affordable &amp; Cozy</th>\n",
       "      <th>name_ Beautiful Room In Gramercy!!!</th>\n",
       "      <th>name_ Family Friendly Brooklyn House</th>\n",
       "      <th>name_ Heart &amp; Soul of Greenwich Village</th>\n",
       "      <th>name_ Private 1 bdrm Lefferts Gr, BK apt</th>\n",
       "      <th>...</th>\n",
       "      <th>neighbourhood_Williamsburg</th>\n",
       "      <th>neighbourhood_Willowbrook</th>\n",
       "      <th>neighbourhood_Windsor Terrace</th>\n",
       "      <th>neighbourhood_Woodhaven</th>\n",
       "      <th>neighbourhood_Woodlawn</th>\n",
       "      <th>neighbourhood_Woodrow</th>\n",
       "      <th>neighbourhood_Woodside</th>\n",
       "      <th>room_type_Entire home/apt</th>\n",
       "      <th>room_type_Private room</th>\n",
       "      <th>room_type_Shared room</th>\n",
       "    </tr>\n",
       "  </thead>\n",
       "  <tbody>\n",
       "    <tr>\n",
       "      <th>0</th>\n",
       "      <td>0</td>\n",
       "      <td>0</td>\n",
       "      <td>0</td>\n",
       "      <td>0</td>\n",
       "      <td>0</td>\n",
       "      <td>0</td>\n",
       "      <td>0</td>\n",
       "      <td>0</td>\n",
       "      <td>0</td>\n",
       "      <td>0</td>\n",
       "      <td>...</td>\n",
       "      <td>0</td>\n",
       "      <td>0</td>\n",
       "      <td>0</td>\n",
       "      <td>0</td>\n",
       "      <td>0</td>\n",
       "      <td>0</td>\n",
       "      <td>0</td>\n",
       "      <td>0</td>\n",
       "      <td>1</td>\n",
       "      <td>0</td>\n",
       "    </tr>\n",
       "    <tr>\n",
       "      <th>1</th>\n",
       "      <td>0</td>\n",
       "      <td>0</td>\n",
       "      <td>0</td>\n",
       "      <td>0</td>\n",
       "      <td>0</td>\n",
       "      <td>0</td>\n",
       "      <td>0</td>\n",
       "      <td>0</td>\n",
       "      <td>0</td>\n",
       "      <td>0</td>\n",
       "      <td>...</td>\n",
       "      <td>0</td>\n",
       "      <td>0</td>\n",
       "      <td>0</td>\n",
       "      <td>0</td>\n",
       "      <td>0</td>\n",
       "      <td>0</td>\n",
       "      <td>0</td>\n",
       "      <td>1</td>\n",
       "      <td>0</td>\n",
       "      <td>0</td>\n",
       "    </tr>\n",
       "    <tr>\n",
       "      <th>2</th>\n",
       "      <td>0</td>\n",
       "      <td>0</td>\n",
       "      <td>0</td>\n",
       "      <td>0</td>\n",
       "      <td>0</td>\n",
       "      <td>0</td>\n",
       "      <td>0</td>\n",
       "      <td>0</td>\n",
       "      <td>0</td>\n",
       "      <td>0</td>\n",
       "      <td>...</td>\n",
       "      <td>0</td>\n",
       "      <td>0</td>\n",
       "      <td>0</td>\n",
       "      <td>0</td>\n",
       "      <td>0</td>\n",
       "      <td>0</td>\n",
       "      <td>0</td>\n",
       "      <td>0</td>\n",
       "      <td>1</td>\n",
       "      <td>0</td>\n",
       "    </tr>\n",
       "    <tr>\n",
       "      <th>3</th>\n",
       "      <td>0</td>\n",
       "      <td>0</td>\n",
       "      <td>0</td>\n",
       "      <td>0</td>\n",
       "      <td>0</td>\n",
       "      <td>0</td>\n",
       "      <td>0</td>\n",
       "      <td>0</td>\n",
       "      <td>0</td>\n",
       "      <td>0</td>\n",
       "      <td>...</td>\n",
       "      <td>0</td>\n",
       "      <td>0</td>\n",
       "      <td>0</td>\n",
       "      <td>0</td>\n",
       "      <td>0</td>\n",
       "      <td>0</td>\n",
       "      <td>0</td>\n",
       "      <td>1</td>\n",
       "      <td>0</td>\n",
       "      <td>0</td>\n",
       "    </tr>\n",
       "    <tr>\n",
       "      <th>4</th>\n",
       "      <td>0</td>\n",
       "      <td>0</td>\n",
       "      <td>0</td>\n",
       "      <td>0</td>\n",
       "      <td>0</td>\n",
       "      <td>0</td>\n",
       "      <td>0</td>\n",
       "      <td>0</td>\n",
       "      <td>0</td>\n",
       "      <td>0</td>\n",
       "      <td>...</td>\n",
       "      <td>0</td>\n",
       "      <td>0</td>\n",
       "      <td>0</td>\n",
       "      <td>0</td>\n",
       "      <td>0</td>\n",
       "      <td>0</td>\n",
       "      <td>0</td>\n",
       "      <td>1</td>\n",
       "      <td>0</td>\n",
       "      <td>0</td>\n",
       "    </tr>\n",
       "  </tbody>\n",
       "</table>\n",
       "<p>5 rows × 48134 columns</p>\n",
       "</div>"
      ],
      "text/plain": [
       "   name_ 1 Bed Apt in Utopic Williamsburg   \\\n",
       "0                                        0   \n",
       "1                                        0   \n",
       "2                                        0   \n",
       "3                                        0   \n",
       "4                                        0   \n",
       "\n",
       "   name_ 2-3 bedroom UWS garden triplex   \\\n",
       "0                                      0   \n",
       "1                                      0   \n",
       "2                                      0   \n",
       "3                                      0   \n",
       "4                                      0   \n",
       "\n",
       "   name_ 3 bedroom loft in Williamsburg  name_ A charming Space in Brooklyn   \\\n",
       "0                                     0                                    0   \n",
       "1                                     0                                    0   \n",
       "2                                     0                                    0   \n",
       "3                                     0                                    0   \n",
       "4                                     0                                    0   \n",
       "\n",
       "   name_ AMAZING TIME SQUARE!!BRICK WALLS!!  name_ Affordable & Cozy   \\\n",
       "0                                         0                         0   \n",
       "1                                         0                         0   \n",
       "2                                         0                         0   \n",
       "3                                         0                         0   \n",
       "4                                         0                         0   \n",
       "\n",
       "   name_ Beautiful Room In Gramercy!!!  name_ Family Friendly Brooklyn House  \\\n",
       "0                                    0                                     0   \n",
       "1                                    0                                     0   \n",
       "2                                    0                                     0   \n",
       "3                                    0                                     0   \n",
       "4                                    0                                     0   \n",
       "\n",
       "   name_ Heart & Soul of Greenwich Village   \\\n",
       "0                                         0   \n",
       "1                                         0   \n",
       "2                                         0   \n",
       "3                                         0   \n",
       "4                                         0   \n",
       "\n",
       "   name_ Private 1 bdrm Lefferts Gr, BK apt  ...  neighbourhood_Williamsburg  \\\n",
       "0                                         0  ...                           0   \n",
       "1                                         0  ...                           0   \n",
       "2                                         0  ...                           0   \n",
       "3                                         0  ...                           0   \n",
       "4                                         0  ...                           0   \n",
       "\n",
       "   neighbourhood_Willowbrook  neighbourhood_Windsor Terrace  \\\n",
       "0                          0                              0   \n",
       "1                          0                              0   \n",
       "2                          0                              0   \n",
       "3                          0                              0   \n",
       "4                          0                              0   \n",
       "\n",
       "   neighbourhood_Woodhaven  neighbourhood_Woodlawn  neighbourhood_Woodrow  \\\n",
       "0                        0                       0                      0   \n",
       "1                        0                       0                      0   \n",
       "2                        0                       0                      0   \n",
       "3                        0                       0                      0   \n",
       "4                        0                       0                      0   \n",
       "\n",
       "   neighbourhood_Woodside  room_type_Entire home/apt  room_type_Private room  \\\n",
       "0                       0                          0                       1   \n",
       "1                       0                          1                       0   \n",
       "2                       0                          0                       1   \n",
       "3                       0                          1                       0   \n",
       "4                       0                          1                       0   \n",
       "\n",
       "   room_type_Shared room  \n",
       "0                      0  \n",
       "1                      0  \n",
       "2                      0  \n",
       "3                      0  \n",
       "4                      0  \n",
       "\n",
       "[5 rows x 48134 columns]"
      ]
     },
     "execution_count": 4,
     "metadata": {},
     "output_type": "execute_result"
    }
   ],
   "source": [
    "catagorical_features = ny_airbnb.select_dtypes(include=['object'])\n",
    "\n",
    "# print(catagorical_features)\n",
    "\n",
    "ny_airbnb_one_hot = pd.get_dummies(catagorical_features)\n",
    "ny_airbnb_one_hot.head(5)"
   ]
  },
  {
   "cell_type": "markdown",
   "metadata": {
    "id": "JtdktbcvZI1B"
   },
   "source": [
    "**train_test_split()**\n",
    "\n",
    "**Reference: [train_test_split() method of scikit learn](https://stackoverflow.com/questions/57754373/train-test-split-method-of-scikit-learn)**"
   ]
  },
  {
   "cell_type": "code",
   "execution_count": 5,
   "metadata": {
    "id": "DFxsqnPZXnOp"
   },
   "outputs": [],
   "source": [
    "# train_data = ny_airbnb[ny_airbnb.columns[ny_airbnb.columns.str.contains('price')==False]]\n",
    "train_data = ny_airbnb_one_hot[ny_airbnb_one_hot.columns[ny_airbnb_one_hot.columns.str.contains('price')==False]]\n",
    "target = ny_airbnb['price']\n",
    "\n",
    "X_train, X_test, y_train, y_test = train_test_split(train_data, target, test_size=0.1, random_state=42) # why 42?"
   ]
  },
  {
   "cell_type": "markdown",
   "metadata": {
    "id": "oKBg5ojPaDg2"
   },
   "source": [
    "**Normalize data using Max-Min method**"
   ]
  },
  {
   "cell_type": "code",
   "execution_count": null,
   "metadata": {
    "id": "0q_EvoT8ZFK_"
   },
   "outputs": [],
   "source": [
    "min_max_scaler = preprocessing.MinMaxScaler()\n",
    "\n",
    "# x_scaled = min_max_scaler.fit_transform(ny_airbnb_one_hot[ny_airbnb_one_hot.columns[ny_airbnb_one_hot.columns.str.contains('price')==False]])\n",
    "\n",
    "# X_train = min_max_scaler.fit_transform(ny_airbnb_one_hot[ny_airbnb_one_hot.columns[ny_airbnb_one_hot.columns.str.contains('price')==False]]) #result from one-hot encoding\n",
    "# X_train = min_max_scaler.fit_transform(X_train) #result from train_test_split()\n"
   ]
  },
  {
   "cell_type": "markdown",
   "metadata": {
    "id": "mn1kL_hHc6yY"
   },
   "source": [
    "# Training"
   ]
  },
  {
   "cell_type": "markdown",
   "metadata": {
    "id": "FpCip6stYpzi"
   },
   "source": [
    "**DNN Model**\n"
   ]
  },
  {
   "cell_type": "code",
   "execution_count": 6,
   "metadata": {
    "id": "97YYyTzeYlH1"
   },
   "outputs": [],
   "source": [
    "model = tf.keras.Sequential([\n",
    "    tf.keras.layers.Dense(256,activation=tf.nn.relu),\n",
    "    tf.keras.layers.Dense(128,activation=tf.nn.relu),\n",
    "    tf.keras.layers.Dense(64,activation=tf.nn.relu),\n",
    "    tf.keras.layers.Dense(32,activation=tf.nn.relu),\n",
    "    tf.keras.layers.Dense(16,activation=tf.nn.relu),\n",
    "    tf.keras.layers.Dense(1,activation=tf.nn.relu)\n",
    "])\n",
    "\n",
    "model.compile(optimizer = 'adam', loss = 'mean_squared_error')"
   ]
  },
  {
   "cell_type": "code",
   "execution_count": 7,
   "metadata": {
    "colab": {
     "base_uri": "https://localhost:8080/"
    },
    "id": "3bVGU2NJYudI",
    "outputId": "8b024fbb-fb4b-46c0-f48d-c9bff9a60bf8"
   },
   "outputs": [
    {
     "name": "stdout",
     "output_type": "stream",
     "text": [
      "Epoch 1/100\n",
      "1238/1238 [==============================] - 21s 17ms/step - loss: 46434.2930 - val_loss: 109839.9062\n",
      "Epoch 2/100\n",
      "1238/1238 [==============================] - 18s 15ms/step - loss: 40905.6719 - val_loss: 115083.8359\n",
      "Epoch 3/100\n",
      "1238/1238 [==============================] - 19s 15ms/step - loss: 34403.8086 - val_loss: 109085.1484\n",
      "Epoch 4/100\n",
      "1238/1238 [==============================] - 19s 15ms/step - loss: 27493.3809 - val_loss: 111093.1016\n",
      "Epoch 5/100\n",
      "1238/1238 [==============================] - 19s 15ms/step - loss: 19579.5605 - val_loss: 111025.9062\n",
      "Epoch 6/100\n",
      "1238/1238 [==============================] - 19s 15ms/step - loss: 13675.2979 - val_loss: 111227.1875\n",
      "Epoch 7/100\n",
      "1238/1238 [==============================] - 19s 15ms/step - loss: 9482.2012 - val_loss: 109802.4766\n",
      "Epoch 8/100\n",
      "1238/1238 [==============================] - 19s 15ms/step - loss: 7439.5630 - val_loss: 109442.5703\n",
      "Epoch 9/100\n",
      "1238/1238 [==============================] - 19s 15ms/step - loss: 5528.7744 - val_loss: 111153.7266\n",
      "Epoch 10/100\n",
      "1238/1238 [==============================] - 19s 15ms/step - loss: 4598.9702 - val_loss: 109134.0703\n",
      "Epoch 11/100\n",
      "1238/1238 [==============================] - 19s 15ms/step - loss: 3918.9744 - val_loss: 109766.7656\n",
      "Epoch 12/100\n",
      "1238/1238 [==============================] - 19s 15ms/step - loss: 3863.5090 - val_loss: 108280.2969\n",
      "Epoch 13/100\n",
      "1238/1238 [==============================] - 19s 15ms/step - loss: 4141.9404 - val_loss: 111827.9922\n",
      "Epoch 14/100\n",
      "1238/1238 [==============================] - 19s 15ms/step - loss: 3488.3108 - val_loss: 108990.1172\n",
      "Epoch 15/100\n",
      "1238/1238 [==============================] - 19s 15ms/step - loss: 2964.7385 - val_loss: 110109.4297\n",
      "Epoch 16/100\n",
      "1238/1238 [==============================] - 19s 15ms/step - loss: 2838.4438 - val_loss: 109161.1328\n",
      "Epoch 17/100\n",
      "1238/1238 [==============================] - 19s 15ms/step - loss: 3119.0984 - val_loss: 109279.5312\n",
      "Epoch 18/100\n",
      "1238/1238 [==============================] - 19s 15ms/step - loss: 2918.8779 - val_loss: 108647.1250\n",
      "Epoch 19/100\n",
      "1238/1238 [==============================] - 19s 15ms/step - loss: 2882.3286 - val_loss: 110431.7734\n",
      "Epoch 20/100\n",
      "1238/1238 [==============================] - 19s 15ms/step - loss: 2981.0090 - val_loss: 108218.4609\n",
      "Epoch 21/100\n",
      "1238/1238 [==============================] - 19s 15ms/step - loss: 2401.1211 - val_loss: 109156.8750\n",
      "Epoch 22/100\n",
      "1238/1238 [==============================] - 19s 15ms/step - loss: 2551.9258 - val_loss: 109049.6562\n",
      "Epoch 23/100\n",
      "1238/1238 [==============================] - 19s 15ms/step - loss: 2771.5203 - val_loss: 111837.9844\n",
      "Epoch 24/100\n",
      "1238/1238 [==============================] - 19s 15ms/step - loss: 2014.1349 - val_loss: 108028.5938\n",
      "Epoch 25/100\n",
      "1238/1238 [==============================] - 19s 15ms/step - loss: 2390.8630 - val_loss: 109800.2422\n",
      "Epoch 26/100\n",
      "1238/1238 [==============================] - 19s 15ms/step - loss: 2070.8916 - val_loss: 108811.5469\n",
      "Epoch 27/100\n",
      "1238/1238 [==============================] - 19s 15ms/step - loss: 2435.0886 - val_loss: 109956.5234\n",
      "Epoch 28/100\n",
      "1238/1238 [==============================] - 19s 15ms/step - loss: 1844.2206 - val_loss: 110020.5859\n",
      "Epoch 29/100\n",
      "1238/1238 [==============================] - 19s 15ms/step - loss: 2363.6802 - val_loss: 110621.5938\n",
      "Epoch 30/100\n",
      "1238/1238 [==============================] - 19s 15ms/step - loss: 2237.1316 - val_loss: 111545.4453\n",
      "Epoch 31/100\n",
      "1238/1238 [==============================] - 19s 15ms/step - loss: 1841.2683 - val_loss: 109813.3047\n",
      "Epoch 32/100\n",
      "1238/1238 [==============================] - 19s 15ms/step - loss: 1887.8347 - val_loss: 116886.7344\n",
      "Epoch 33/100\n",
      "1238/1238 [==============================] - 19s 15ms/step - loss: 1897.2384 - val_loss: 109700.9609\n",
      "Epoch 34/100\n",
      "1238/1238 [==============================] - 19s 15ms/step - loss: 1708.0956 - val_loss: 110969.0156\n",
      "Epoch 35/100\n",
      "1238/1238 [==============================] - 19s 15ms/step - loss: 1903.5715 - val_loss: 111278.9766\n",
      "Epoch 36/100\n",
      "1238/1238 [==============================] - 19s 15ms/step - loss: 1784.0599 - val_loss: 111828.1016\n",
      "Epoch 37/100\n",
      "1238/1238 [==============================] - 19s 15ms/step - loss: 1559.0337 - val_loss: 111331.8750\n",
      "Epoch 38/100\n",
      "1238/1238 [==============================] - 19s 15ms/step - loss: 1757.1674 - val_loss: 114175.7188\n",
      "Epoch 39/100\n",
      "1238/1238 [==============================] - 19s 15ms/step - loss: 1585.9185 - val_loss: 111198.6953\n",
      "Epoch 40/100\n",
      "1238/1238 [==============================] - 19s 15ms/step - loss: 1694.5878 - val_loss: 112631.4844\n",
      "Epoch 41/100\n",
      "1238/1238 [==============================] - 19s 15ms/step - loss: 1749.5948 - val_loss: 115047.3047\n",
      "Epoch 42/100\n",
      "1238/1238 [==============================] - 19s 15ms/step - loss: 1220.9388 - val_loss: 113386.0547\n",
      "Epoch 43/100\n",
      "1238/1238 [==============================] - 19s 15ms/step - loss: 1453.9187 - val_loss: 115252.4375\n",
      "Epoch 44/100\n",
      "1238/1238 [==============================] - 19s 15ms/step - loss: 1497.2843 - val_loss: 113656.5078\n",
      "Epoch 45/100\n",
      "1238/1238 [==============================] - 19s 15ms/step - loss: 1410.8922 - val_loss: 114327.8125\n",
      "Epoch 46/100\n",
      "1238/1238 [==============================] - 19s 15ms/step - loss: 1541.4404 - val_loss: 115606.9766\n",
      "Epoch 47/100\n",
      "1238/1238 [==============================] - 19s 15ms/step - loss: 1376.4736 - val_loss: 118621.5859\n",
      "Epoch 48/100\n",
      "1238/1238 [==============================] - 19s 15ms/step - loss: 1232.0068 - val_loss: 114401.6328\n",
      "Epoch 49/100\n",
      "1238/1238 [==============================] - 19s 15ms/step - loss: 1354.5681 - val_loss: 118509.3281\n",
      "Epoch 50/100\n",
      "1238/1238 [==============================] - 19s 15ms/step - loss: 1500.7649 - val_loss: 116865.6250\n",
      "Epoch 51/100\n",
      "1238/1238 [==============================] - 19s 15ms/step - loss: 1432.3031 - val_loss: 120471.4531\n",
      "Epoch 52/100\n",
      "1238/1238 [==============================] - 19s 15ms/step - loss: 1209.7396 - val_loss: 118933.0234\n",
      "Epoch 53/100\n",
      "1238/1238 [==============================] - 19s 15ms/step - loss: 1428.9105 - val_loss: 127185.4766\n",
      "Epoch 54/100\n",
      "1238/1238 [==============================] - 19s 15ms/step - loss: 1398.1840 - val_loss: 119083.4219\n",
      "Epoch 55/100\n",
      "1238/1238 [==============================] - 19s 15ms/step - loss: 1022.9406 - val_loss: 122703.3594\n",
      "Epoch 56/100\n",
      "1238/1238 [==============================] - 19s 15ms/step - loss: 1062.2168 - val_loss: 123618.4531\n",
      "Epoch 57/100\n",
      "1238/1238 [==============================] - 19s 15ms/step - loss: 1445.7819 - val_loss: 121544.4219\n",
      "Epoch 58/100\n",
      "1238/1238 [==============================] - 19s 15ms/step - loss: 1153.6908 - val_loss: 136292.0000\n",
      "Epoch 59/100\n",
      "1238/1238 [==============================] - 19s 15ms/step - loss: 1005.2990 - val_loss: 146892.7656\n",
      "Epoch 60/100\n",
      "1238/1238 [==============================] - 19s 15ms/step - loss: 1274.7986 - val_loss: 127626.6875\n",
      "Epoch 61/100\n",
      "1238/1238 [==============================] - 19s 15ms/step - loss: 1244.0295 - val_loss: 134622.8125\n",
      "Epoch 62/100\n",
      "1238/1238 [==============================] - 19s 15ms/step - loss: 1079.6661 - val_loss: 128082.3359\n",
      "Epoch 63/100\n",
      "1238/1238 [==============================] - 19s 15ms/step - loss: 995.3757 - val_loss: 135766.7344\n",
      "Epoch 64/100\n",
      "1238/1238 [==============================] - 19s 15ms/step - loss: 1084.2396 - val_loss: 130260.7656\n",
      "Epoch 65/100\n",
      "1238/1238 [==============================] - 19s 15ms/step - loss: 1000.4279 - val_loss: 130317.2500\n",
      "Epoch 66/100\n",
      "1238/1238 [==============================] - 19s 15ms/step - loss: 1093.6061 - val_loss: 131780.0938\n",
      "Epoch 67/100\n",
      "1238/1238 [==============================] - 19s 15ms/step - loss: 824.2433 - val_loss: 130846.3672\n",
      "Epoch 68/100\n",
      "1238/1238 [==============================] - 19s 15ms/step - loss: 894.2859 - val_loss: 130978.1016\n",
      "Epoch 69/100\n",
      "1238/1238 [==============================] - 19s 15ms/step - loss: 985.1415 - val_loss: 132993.7656\n",
      "Epoch 70/100\n",
      "1238/1238 [==============================] - 19s 15ms/step - loss: 923.9595 - val_loss: 134388.3594\n",
      "Epoch 71/100\n",
      "1238/1238 [==============================] - 19s 15ms/step - loss: 784.5618 - val_loss: 126655.9531\n",
      "Epoch 72/100\n",
      "1238/1238 [==============================] - 19s 15ms/step - loss: 864.9019 - val_loss: 138722.5000\n"
     ]
    },
    {
     "name": "stdout",
     "output_type": "stream",
     "text": [
      "Epoch 73/100\n",
      "1238/1238 [==============================] - 19s 15ms/step - loss: 840.7322 - val_loss: 134083.8281\n",
      "Epoch 74/100\n",
      "1238/1238 [==============================] - 19s 15ms/step - loss: 927.1857 - val_loss: 130972.7969\n",
      "Epoch 75/100\n",
      "1238/1238 [==============================] - 19s 15ms/step - loss: 1075.5076 - val_loss: 136849.2812\n",
      "Epoch 76/100\n",
      "1238/1238 [==============================] - 19s 15ms/step - loss: 1079.3488 - val_loss: 137668.2344\n",
      "Epoch 77/100\n",
      "1238/1238 [==============================] - 19s 15ms/step - loss: 937.7141 - val_loss: 148921.9844\n",
      "Epoch 78/100\n",
      "1238/1238 [==============================] - 19s 15ms/step - loss: 643.7755 - val_loss: 141180.1094\n",
      "Epoch 79/100\n",
      "1238/1238 [==============================] - 19s 15ms/step - loss: 745.5568 - val_loss: 147474.5000\n",
      "Epoch 80/100\n",
      "1238/1238 [==============================] - 19s 15ms/step - loss: 889.6143 - val_loss: 150842.9844\n",
      "Epoch 81/100\n",
      "1238/1238 [==============================] - 19s 15ms/step - loss: 774.6443 - val_loss: 141761.4375\n",
      "Epoch 82/100\n",
      "1238/1238 [==============================] - 19s 15ms/step - loss: 808.1448 - val_loss: 145928.5938\n",
      "Epoch 83/100\n",
      "1238/1238 [==============================] - 19s 15ms/step - loss: 777.7285 - val_loss: 137518.4219\n",
      "Epoch 84/100\n",
      "1238/1238 [==============================] - 19s 15ms/step - loss: 967.0309 - val_loss: 139401.0781\n",
      "Epoch 85/100\n",
      "1238/1238 [==============================] - 19s 15ms/step - loss: 608.5829 - val_loss: 159882.5938\n",
      "Epoch 86/100\n",
      "1238/1238 [==============================] - 19s 15ms/step - loss: 651.6415 - val_loss: 144105.9844\n",
      "Epoch 87/100\n",
      "1238/1238 [==============================] - 19s 15ms/step - loss: 720.2413 - val_loss: 149059.0469\n",
      "Epoch 88/100\n",
      "1238/1238 [==============================] - 19s 15ms/step - loss: 800.8615 - val_loss: 162824.7344\n",
      "Epoch 89/100\n",
      "1238/1238 [==============================] - 19s 15ms/step - loss: 651.5864 - val_loss: 151309.8281\n",
      "Epoch 90/100\n",
      "1238/1238 [==============================] - 19s 15ms/step - loss: 636.4448 - val_loss: 144198.0156\n",
      "Epoch 91/100\n",
      "1238/1238 [==============================] - 19s 15ms/step - loss: 793.3317 - val_loss: 141052.2344\n",
      "Epoch 92/100\n",
      "1238/1238 [==============================] - 19s 15ms/step - loss: 924.4197 - val_loss: 156939.8125\n",
      "Epoch 93/100\n",
      "1238/1238 [==============================] - 19s 15ms/step - loss: 745.8229 - val_loss: 140307.1719\n",
      "Epoch 94/100\n",
      "1238/1238 [==============================] - 19s 15ms/step - loss: 601.7147 - val_loss: 148475.2812\n",
      "Epoch 95/100\n",
      "1238/1238 [==============================] - 19s 15ms/step - loss: 540.7761 - val_loss: 137865.0938\n",
      "Epoch 96/100\n",
      "1238/1238 [==============================] - 19s 15ms/step - loss: 711.6277 - val_loss: 155412.7031\n",
      "Epoch 97/100\n",
      "1238/1238 [==============================] - 19s 15ms/step - loss: 768.9180 - val_loss: 154376.7812\n",
      "Epoch 98/100\n",
      "1238/1238 [==============================] - 19s 15ms/step - loss: 520.9212 - val_loss: 134233.4375\n",
      "Epoch 99/100\n",
      "1238/1238 [==============================] - 19s 15ms/step - loss: 680.4656 - val_loss: 160646.6562\n",
      "Epoch 100/100\n",
      "1238/1238 [==============================] - 19s 15ms/step - loss: 692.6053 - val_loss: 163257.7500\n"
     ]
    }
   ],
   "source": [
    "history = model.fit(X_train.values, y_train.values, epochs = 100, validation_split = 0.1)"
   ]
  },
  {
   "cell_type": "code",
   "execution_count": 8,
   "metadata": {
    "colab": {
     "base_uri": "https://localhost:8080/"
    },
    "id": "8JVk-yg4ea53",
    "outputId": "b1ddd1c2-92e0-4e3d-93a6-fe056daff906"
   },
   "outputs": [
    {
     "data": {
      "text/plain": [
       "dict_keys(['loss', 'val_loss'])"
      ]
     },
     "execution_count": 8,
     "metadata": {},
     "output_type": "execute_result"
    }
   ],
   "source": [
    "history.history.keys()"
   ]
  },
  {
   "cell_type": "markdown",
   "metadata": {
    "id": "dgZkZDCUe5kD"
   },
   "source": [
    "# Result"
   ]
  },
  {
   "cell_type": "code",
   "execution_count": 10,
   "metadata": {
    "colab": {
     "base_uri": "https://localhost:8080/",
     "height": 295
    },
    "id": "msa5RMtme3Du",
    "outputId": "8e7a22ca-1f7c-445c-a52c-837fa30078cb"
   },
   "outputs": [
    {
     "data": {
      "image/png": "[encoded data removed]",
      "text/plain": [
       "<Figure size 432x288 with 1 Axes>"
      ]
     },
     "metadata": {
      "needs_background": "light"
     },
     "output_type": "display_data"
    }
   ],
   "source": [
    "import matplotlib.pyplot as plt\n",
    "\n",
    "ax = plt.gca()\n",
    "plt.title('Loss')\n",
    "k = list(range(1, len(history.history['loss'])+1))\n",
    "plt.plot(k, history.history['loss'], label='Train Loss')\n",
    "plt.plot(k, history.history['val_loss'], label='Validation Loss')\n",
    "ax.grid(linestyle='-.')\n",
    "plt.ylabel('Mean Squared Error')\n",
    "plt.xlabel('epoch')\n",
    "\n",
    "plt.legend()\n",
    "plt.show()"
   ]
  },
  {
   "cell_type": "code",
   "execution_count": null,
   "metadata": {},
   "outputs": [],
   "source": []
  }
 ],
 "metadata": {
  "accelerator": "GPU",
  "colab": {
   "collapsed_sections": [],
   "name": "airbnb_prediction.ipynb",
   "provenance": []
  },
  "kernelspec": {
   "display_name": "cc93_tf",
   "language": "python",
   "name": "cc93_tf"
  },
  "language_info": {
   "codemirror_mode": {
    "name": "ipython",
    "version": 3
   },
   "file_extension": ".py",
   "mimetype": "text/x-python",
   "name": "python",
   "nbconvert_exporter": "python",
   "pygments_lexer": "ipython3",
   "version": "3.6.9"
  }
 },
 "nbformat": 4,
 "nbformat_minor": 1
}
